{
 "cells": [
  {
   "cell_type": "code",
   "execution_count": null,
   "metadata": {},
   "outputs": [],
   "source": [
    "import requests\n",
    "import bs4 as bs\n",
    "import Data_Manager as dm"
   ]
  },
  {
   "cell_type": "code",
   "execution_count": null,
   "metadata": {},
   "outputs": [],
   "source": [
    "def read_table(table, data):\n",
    "    tr = table.find_all('tr')\n",
    "    for row in tr[1:]:\n",
    "        td = row.find_all('td')\n",
    "        data.append([tr[0].th.text + ' ' + td[0].text, td[1].text[1:-1].split(' - ')[0], td[4].text, td[5].text, td[6].text])\n",
    "        #TODO less hard coded"
   ]
  },
  {
   "cell_type": "code",
   "execution_count": null,
   "metadata": {},
   "outputs": [],
   "source": [
    "data = []\n",
    "url = 'https://www.wettportal.com/quotenarchiv/Fussball/Deutschland/Bundesliga/'\n",
    "website = requests.get(url)\n",
    "if website.status_code != 200:\n",
    "    print('website not found', url)\n",
    "    stop\n",
    "soup = bs.BeautifulSoup(website.text, 'lxml')\n",
    "div = soup.find_all('div', {'id': 'searchresults'})\n",
    "tables = div[0].find_all('table')\n",
    "for table in tables:\n",
    "    read_table(table, data)\n",
    "\n",
    "#dm.drop_quote()\n",
    "#dm.set_quote()\n",
    "dm.insert_quote(data)"
   ]
  }
 ],
 "metadata": {
  "kernelspec": {
   "display_name": "Python 3",
   "language": "python",
   "name": "python3"
  },
  "language_info": {
   "codemirror_mode": {
    "name": "ipython",
    "version": 3
   },
   "file_extension": ".py",
   "mimetype": "text/x-python",
   "name": "python",
   "nbconvert_exporter": "python",
   "pygments_lexer": "ipython3",
   "version": "3.6.8"
  }
 },
 "nbformat": 4,
 "nbformat_minor": 2
}
