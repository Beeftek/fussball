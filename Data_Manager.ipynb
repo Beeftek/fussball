{
 "cells": [
  {
   "cell_type": "code",
   "execution_count": 1,
   "metadata": {},
   "outputs": [],
   "source": [
    "import sqlite3"
   ]
  },
  {
   "cell_type": "code",
   "execution_count": 2,
   "metadata": {},
   "outputs": [],
   "source": [
    "def reset_spiele(liga):\n",
    "    connection = sqlite3.connect(\"spiele.db\")\n",
    "    cursor = connection.cursor()\n",
    "    cursor.execute('DROP TABLE {liga}'.format(liga=liga))\n",
    "    sql_command = 'CREATE TABLE {liga} (game_id INTEGER PRIMARY KEY, team1 VARCHAR(30) NOT NULL, tore_heim VARCHAR(1), tore_aus VARCHAR(1), team2 VARCHAR(30) NOT NULL , date VARCHAR(30) NOT NULL)'.format(liga=liga)\n",
    "    cursor.execute(sql_command)\n",
    "    connection.commit()\n",
    "    connection.close()\n",
    "    print( 'table ', liga, ' has been reset')"
   ]
  },
  {
   "cell_type": "code",
   "execution_count": 3,
   "metadata": {},
   "outputs": [],
   "source": [
    "def insert_bundesliga(values):\n",
    "    connection = sqlite3.connect(\"spiele.db\")\n",
    "    cursor = connection.cursor()\n",
    "    sql_command = \"INSERT INTO bundesliga (team1, tore_heim, tore_aus, team2, date) VALUES (?,?,?,?,?)\"\n",
    "    cursor.executemany(sql_command, values)\n",
    "    connection.commit()\n",
    "    connection.close()\n",
    "    print('stored in bundesliga')"
   ]
  },
  {
   "cell_type": "code",
   "execution_count": 4,
   "metadata": {},
   "outputs": [],
   "source": [
    "def insert_liga2(values):\n",
    "    connection = sqlite3.connect(\"spiele.db\")\n",
    "    cursor = connection.cursor()\n",
    "    sql_command = \"INSERT INTO liga2 (team1, tore_heim, tore_aus, team2, date) VALUES (?,?,?,?,?)\"\n",
    "    cursor.executemany(sql_command, values)\n",
    "    connection.commit()\n",
    "    connection.close()\n",
    "    print('stored in liga2')"
   ]
  },
  {
   "cell_type": "code",
   "execution_count": 5,
   "metadata": {},
   "outputs": [],
   "source": [
    "def insert_liga3(values):\n",
    "    connection = sqlite3.connect(\"spiele.db\")\n",
    "    cursor = connection.cursor()\n",
    "    sql_command = \"INSERT INTO liga3 (team1, tore_heim, tore_aus, team2, date) VALUES (?,?,?,?,?)\"\n",
    "    cursor.executemany(sql_command, values)\n",
    "    connection.commit()\n",
    "    connection.close()\n",
    "    print('stored in liga3')"
   ]
  },
  {
   "cell_type": "code",
   "execution_count": 6,
   "metadata": {},
   "outputs": [],
   "source": [
    "def read_spiele(liga):\n",
    "    connection = sqlite3.connect(\"spiele.db\")\n",
    "    cursor = connection.cursor()\n",
    "    cursor.execute('SELECT * FROM {liga}'.format(liga=liga))\n",
    "    tb = cursor.fetchall()\n",
    "    connection.close()\n",
    "    return tb"
   ]
  },
  {
   "cell_type": "code",
   "execution_count": 7,
   "metadata": {},
   "outputs": [],
   "source": [
    "def len_spiele(liga):\n",
    "    connection = sqlite3.connect(\"spiele.db\")\n",
    "    cursor = connection.cursor()\n",
    "    cursor.execute('SELECT count(*) FROM {liga}'.format(liga=liga))\n",
    "    print(cursor.fetchall()[0][0])\n",
    "    connection.close()"
   ]
  }
 ],
 "metadata": {
  "kernelspec": {
   "display_name": "Python 3",
   "language": "python",
   "name": "python3"
  },
  "language_info": {
   "codemirror_mode": {
    "name": "ipython",
    "version": 3
   },
   "file_extension": ".py",
   "mimetype": "text/x-python",
   "name": "python",
   "nbconvert_exporter": "python",
   "pygments_lexer": "ipython3",
   "version": "3.6.8"
  }
 },
 "nbformat": 4,
 "nbformat_minor": 2
}
