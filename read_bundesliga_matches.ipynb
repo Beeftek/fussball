{
 "cells": [
  {
   "cell_type": "code",
   "execution_count": 3,
   "metadata": {},
   "outputs": [],
   "source": [
    "import urllib.request\n",
    "import re\n",
    "import Data_Manager as dm"
   ]
  },
  {
   "cell_type": "code",
   "execution_count": 5,
   "metadata": {},
   "outputs": [
    {
     "name": "stdout",
     "output_type": "stream",
     "text": [
      "table  liga3  has been reseted\n",
      "https://www.fussballdaten.de/3liga/2009/1/ tage:  38\n",
      "stored in liga3\n",
      "https://www.fussballdaten.de/3liga/2010/1/ tage:  38\n",
      "stored in liga3\n",
      "https://www.fussballdaten.de/3liga/2011/1/ tage:  38\n",
      "stored in liga3\n",
      "https://www.fussballdaten.de/3liga/2012/1/ tage:  38\n",
      "stored in liga3\n",
      "https://www.fussballdaten.de/3liga/2013/1/ tage:  38\n",
      "stored in liga3\n",
      "https://www.fussballdaten.de/3liga/2014/1/ tage:  38\n",
      "stored in liga3\n",
      "https://www.fussballdaten.de/3liga/2015/1/ tage:  38\n",
      "stored in liga3\n",
      "https://www.fussballdaten.de/3liga/2016/1/ tage:  38\n",
      "stored in liga3\n",
      "https://www.fussballdaten.de/3liga/2017/1/ tage:  38\n",
      "stored in liga3\n",
      "https://www.fussballdaten.de/3liga/2018/1/ tage:  38\n",
      "stored in liga3\n"
     ]
    }
   ],
   "source": [
    "liga = '3liga' # 2liga , 3liga, bundesliga\n",
    "#dm.reset_spiele(liga) #!!!nur wenn Datenbanktabelle zurückgesetzt werden soll !!!!\n",
    "#dm.reset_spiele(liga[1:]+liga[0])\n",
    "stop = False\n",
    "for year in range(2009,2019):\n",
    "    Website = \"https://www.fussballdaten.de/\" + liga + \"/\" + str(year) + \"/1/\"\n",
    "    try:\n",
    "        w = urllib.request.urlopen(Website)\n",
    "    except:\n",
    "        print('URL unkown: ', Website)\n",
    "        stop = True\n",
    "    if stop:\n",
    "        break\n",
    "        \n",
    "    if w.code == 200:\n",
    "        html_cont = str(w.read())\n",
    "        \n",
    "    num_day = len(re.findall('option value.*?Spieltag', html_cont))\n",
    "    print(Website, 'tage: ', num_day-1)\n",
    "    del html_cont, w\n",
    "    \n",
    "    data = []\n",
    "    \n",
    "    for day in range(1,num_day):\n",
    "        \n",
    "        Webseite = \"https://www.fussballdaten.de/\" + liga + \"/\" + str(year) + \"/\" + str(day) + \"/\"\n",
    "        try:\n",
    "            w = urllib.request.urlopen(Webseite)\n",
    "        except:\n",
    "            print('URL unkown: ', Webseite)\n",
    "            stop = True\n",
    "        if stop:\n",
    "            break\n",
    "        \n",
    "        if w.code == 200:\n",
    "            html_cont = str(w.read())\n",
    "\n",
    "        cutting = re.findall('leistungsdaten.*?</table>', html_cont)\n",
    "        cutting = re.findall('<tr data-key.*?</tr>',cutting[0])\n",
    "        \n",
    "        #date = ''\n",
    "        #team1 = ''\n",
    "        #team2 = ''\n",
    "        #ergebnis = ''\n",
    "        \n",
    "        for reihe in cutting:\n",
    "            spalte = re.findall('<td.*?</td>',reihe)\n",
    "            date = re.findall('b&gt;.*?&lt',spalte[0])[0][5:-3]\n",
    "            team1 = re.findall('xs.*?<',spalte[2])[0][3:-1]\n",
    "            if day == 1:\n",
    "                team2 = re.findall('xs.*?<',spalte[4])[0][3:-1]\n",
    "            else:\n",
    "                team2 = re.findall('xs.*?<',spalte[4])[1][3:-1]\n",
    "            ergebnis = re.findall('>.*?<',spalte[3])[2][1:-1]\n",
    "            team1 = team1.replace('\\\\xc3\\\\xbc', 'ü')\n",
    "            team1 = team1.replace('\\\\xc3\\\\xb6', 'ö')\n",
    "            team1 = team1.replace('\\\\xc3\\\\x9f', 'ß')\n",
    "            team2 = team2.replace('\\\\xc3\\\\xbc', 'ü')\n",
    "            team2 = team2.replace('\\\\xc3\\\\xb6', 'ö')\n",
    "            team2 = team2.replace('\\\\xc3\\\\x9f', 'ß')\n",
    "            data.append((team1, ergebnis[0], ergebnis[2], team2, date))\n",
    "        \n",
    "    if liga == 'bundesliga':\n",
    "        dm.insert_bundesliga(data)\n",
    "    elif liga == '2liga':\n",
    "        dm.insert_liga2(data)\n",
    "    elif liga == '3liga':\n",
    "        dm.insert_liga3(data)\n",
    "    else:\n",
    "        print('liga unknown')"
   ]
  },
  {
   "cell_type": "code",
   "execution_count": null,
   "metadata": {},
   "outputs": [],
   "source": []
  },
  {
   "cell_type": "code",
   "execution_count": null,
   "metadata": {},
   "outputs": [],
   "source": []
  },
  {
   "cell_type": "code",
   "execution_count": null,
   "metadata": {},
   "outputs": [],
   "source": []
  }
 ],
 "metadata": {
  "kernelspec": {
   "display_name": "Python 3",
   "language": "python",
   "name": "python3"
  },
  "language_info": {
   "codemirror_mode": {
    "name": "ipython",
    "version": 3
   },
   "file_extension": ".py",
   "mimetype": "text/x-python",
   "name": "python",
   "nbconvert_exporter": "python",
   "pygments_lexer": "ipython3",
   "version": "3.6.8"
  }
 },
 "nbformat": 4,
 "nbformat_minor": 2
}
