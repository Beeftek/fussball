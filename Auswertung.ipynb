{
 "cells": [
  {
   "cell_type": "code",
   "execution_count": 19,
   "metadata": {},
   "outputs": [],
   "source": [
    "import pandas as pd\n",
    "import numpy as np\n",
    "import Data_Manager as dm"
   ]
  },
  {
   "cell_type": "code",
   "execution_count": 20,
   "metadata": {},
   "outputs": [],
   "source": [
    "rows = dm.read_spiele('bundesliga')"
   ]
  },
  {
   "cell_type": "code",
   "execution_count": 21,
   "metadata": {},
   "outputs": [],
   "source": [
    "bl = pd.DataFrame(rows, columns = ['id','team1','tore_heim','tore_aus','team2','day'])"
   ]
  },
  {
   "cell_type": "code",
   "execution_count": 41,
   "metadata": {},
   "outputs": [
    {
     "data": {
      "text/html": [
       "<div>\n",
       "<style scoped>\n",
       "    .dataframe tbody tr th:only-of-type {\n",
       "        vertical-align: middle;\n",
       "    }\n",
       "\n",
       "    .dataframe tbody tr th {\n",
       "        vertical-align: top;\n",
       "    }\n",
       "\n",
       "    .dataframe thead th {\n",
       "        text-align: right;\n",
       "    }\n",
       "</style>\n",
       "<table border=\"1\" class=\"dataframe\">\n",
       "  <thead>\n",
       "    <tr style=\"text-align: right;\">\n",
       "      <th></th>\n",
       "      <th>id</th>\n",
       "      <th>team1</th>\n",
       "      <th>tore_heim</th>\n",
       "      <th>tore_aus</th>\n",
       "      <th>team2</th>\n",
       "      <th>day</th>\n",
       "      <th>tor_diff</th>\n",
       "    </tr>\n",
       "  </thead>\n",
       "  <tbody>\n",
       "    <tr>\n",
       "      <th>0</th>\n",
       "      <td>1</td>\n",
       "      <td>Hertha BSC</td>\n",
       "      <td>1</td>\n",
       "      <td>1</td>\n",
       "      <td>1. FC Nürnberg</td>\n",
       "      <td>Samstag, 24.08.1963</td>\n",
       "      <td>0</td>\n",
       "    </tr>\n",
       "    <tr>\n",
       "      <th>1</th>\n",
       "      <td>2</td>\n",
       "      <td>Werder Bremen</td>\n",
       "      <td>3</td>\n",
       "      <td>2</td>\n",
       "      <td>Borussia Dortmund</td>\n",
       "      <td>Samstag, 24.08.1963</td>\n",
       "      <td>1</td>\n",
       "    </tr>\n",
       "    <tr>\n",
       "      <th>2</th>\n",
       "      <td>3</td>\n",
       "      <td>Eintracht Frankfurt</td>\n",
       "      <td>1</td>\n",
       "      <td>1</td>\n",
       "      <td>1. FC Kaiserslautern</td>\n",
       "      <td>Samstag, 24.08.1963</td>\n",
       "      <td>0</td>\n",
       "    </tr>\n",
       "    <tr>\n",
       "      <th>3</th>\n",
       "      <td>4</td>\n",
       "      <td>Karlsruher SC</td>\n",
       "      <td>1</td>\n",
       "      <td>4</td>\n",
       "      <td>Meidericher SV</td>\n",
       "      <td>Samstag, 24.08.1963</td>\n",
       "      <td>-3</td>\n",
       "    </tr>\n",
       "    <tr>\n",
       "      <th>4</th>\n",
       "      <td>5</td>\n",
       "      <td>1860 München</td>\n",
       "      <td>1</td>\n",
       "      <td>1</td>\n",
       "      <td>Eintr. Braunschweig</td>\n",
       "      <td>Samstag, 24.08.1963</td>\n",
       "      <td>0</td>\n",
       "    </tr>\n",
       "  </tbody>\n",
       "</table>\n",
       "</div>"
      ],
      "text/plain": [
       "   id                team1 tore_heim tore_aus                 team2  \\\n",
       "0   1           Hertha BSC         1        1        1. FC Nürnberg   \n",
       "1   2        Werder Bremen         3        2     Borussia Dortmund   \n",
       "2   3  Eintracht Frankfurt         1        1  1. FC Kaiserslautern   \n",
       "3   4        Karlsruher SC         1        4        Meidericher SV   \n",
       "4   5         1860 München         1        1   Eintr. Braunschweig   \n",
       "\n",
       "                   day  tor_diff  \n",
       "0  Samstag, 24.08.1963         0  \n",
       "1  Samstag, 24.08.1963         1  \n",
       "2  Samstag, 24.08.1963         0  \n",
       "3  Samstag, 24.08.1963        -3  \n",
       "4  Samstag, 24.08.1963         0  "
      ]
     },
     "execution_count": 41,
     "metadata": {},
     "output_type": "execute_result"
    }
   ],
   "source": [
    "bl.head(5)"
   ]
  },
  {
   "cell_type": "code",
   "execution_count": 53,
   "metadata": {},
   "outputs": [
    {
     "data": {
      "text/html": [
       "<div>\n",
       "<style scoped>\n",
       "    .dataframe tbody tr th:only-of-type {\n",
       "        vertical-align: middle;\n",
       "    }\n",
       "\n",
       "    .dataframe tbody tr th {\n",
       "        vertical-align: top;\n",
       "    }\n",
       "\n",
       "    .dataframe thead th {\n",
       "        text-align: right;\n",
       "    }\n",
       "</style>\n",
       "<table border=\"1\" class=\"dataframe\">\n",
       "  <thead>\n",
       "    <tr style=\"text-align: right;\">\n",
       "      <th></th>\n",
       "      <th>id</th>\n",
       "      <th>team1</th>\n",
       "      <th>tore_heim</th>\n",
       "      <th>tore_aus</th>\n",
       "      <th>team2</th>\n",
       "      <th>day</th>\n",
       "      <th>tor_diff</th>\n",
       "    </tr>\n",
       "  </thead>\n",
       "  <tbody>\n",
       "  </tbody>\n",
       "</table>\n",
       "</div>"
      ],
      "text/plain": [
       "Empty DataFrame\n",
       "Columns: [id, team1, tore_heim, tore_aus, team2, day, tor_diff]\n",
       "Index: []"
      ]
     },
     "execution_count": 53,
     "metadata": {},
     "output_type": "execute_result"
    }
   ],
   "source": [
    "bl[bl['tore_aus'] == '14']"
   ]
  },
  {
   "cell_type": "code",
   "execution_count": 23,
   "metadata": {},
   "outputs": [],
   "source": [
    "bl['tor_diff'] = pd.Series([int(y) for y in bl['tore_heim']]) - pd.Series([int(x) for x in bl['tore_aus']])  "
   ]
  },
  {
   "cell_type": "code",
   "execution_count": 24,
   "metadata": {},
   "outputs": [
    {
     "data": {
      "text/html": [
       "<div>\n",
       "<style scoped>\n",
       "    .dataframe tbody tr th:only-of-type {\n",
       "        vertical-align: middle;\n",
       "    }\n",
       "\n",
       "    .dataframe tbody tr th {\n",
       "        vertical-align: top;\n",
       "    }\n",
       "\n",
       "    .dataframe thead th {\n",
       "        text-align: right;\n",
       "    }\n",
       "</style>\n",
       "<table border=\"1\" class=\"dataframe\">\n",
       "  <thead>\n",
       "    <tr style=\"text-align: right;\">\n",
       "      <th></th>\n",
       "      <th>id</th>\n",
       "      <th>team1</th>\n",
       "      <th>tore_heim</th>\n",
       "      <th>tore_aus</th>\n",
       "      <th>team2</th>\n",
       "      <th>day</th>\n",
       "      <th>tor_diff</th>\n",
       "    </tr>\n",
       "  </thead>\n",
       "  <tbody>\n",
       "    <tr>\n",
       "      <th>0</th>\n",
       "      <td>1</td>\n",
       "      <td>Hertha BSC</td>\n",
       "      <td>1</td>\n",
       "      <td>1</td>\n",
       "      <td>1. FC Nürnberg</td>\n",
       "      <td>Samstag, 24.08.1963</td>\n",
       "      <td>0</td>\n",
       "    </tr>\n",
       "    <tr>\n",
       "      <th>1</th>\n",
       "      <td>2</td>\n",
       "      <td>Werder Bremen</td>\n",
       "      <td>3</td>\n",
       "      <td>2</td>\n",
       "      <td>Borussia Dortmund</td>\n",
       "      <td>Samstag, 24.08.1963</td>\n",
       "      <td>1</td>\n",
       "    </tr>\n",
       "    <tr>\n",
       "      <th>2</th>\n",
       "      <td>3</td>\n",
       "      <td>Eintracht Frankfurt</td>\n",
       "      <td>1</td>\n",
       "      <td>1</td>\n",
       "      <td>1. FC Kaiserslautern</td>\n",
       "      <td>Samstag, 24.08.1963</td>\n",
       "      <td>0</td>\n",
       "    </tr>\n",
       "    <tr>\n",
       "      <th>3</th>\n",
       "      <td>4</td>\n",
       "      <td>Karlsruher SC</td>\n",
       "      <td>1</td>\n",
       "      <td>4</td>\n",
       "      <td>Meidericher SV</td>\n",
       "      <td>Samstag, 24.08.1963</td>\n",
       "      <td>-3</td>\n",
       "    </tr>\n",
       "    <tr>\n",
       "      <th>4</th>\n",
       "      <td>5</td>\n",
       "      <td>1860 München</td>\n",
       "      <td>1</td>\n",
       "      <td>1</td>\n",
       "      <td>Eintr. Braunschweig</td>\n",
       "      <td>Samstag, 24.08.1963</td>\n",
       "      <td>0</td>\n",
       "    </tr>\n",
       "  </tbody>\n",
       "</table>\n",
       "</div>"
      ],
      "text/plain": [
       "   id                team1 tore_heim tore_aus                 team2  \\\n",
       "0   1           Hertha BSC         1        1        1. FC Nürnberg   \n",
       "1   2        Werder Bremen         3        2     Borussia Dortmund   \n",
       "2   3  Eintracht Frankfurt         1        1  1. FC Kaiserslautern   \n",
       "3   4        Karlsruher SC         1        4        Meidericher SV   \n",
       "4   5         1860 München         1        1   Eintr. Braunschweig   \n",
       "\n",
       "                   day  tor_diff  \n",
       "0  Samstag, 24.08.1963         0  \n",
       "1  Samstag, 24.08.1963         1  \n",
       "2  Samstag, 24.08.1963         0  \n",
       "3  Samstag, 24.08.1963        -3  \n",
       "4  Samstag, 24.08.1963         0  "
      ]
     },
     "execution_count": 24,
     "metadata": {},
     "output_type": "execute_result"
    }
   ],
   "source": [
    "bl.head()"
   ]
  },
  {
   "cell_type": "code",
   "execution_count": null,
   "metadata": {},
   "outputs": [],
   "source": []
  },
  {
   "cell_type": "code",
   "execution_count": 26,
   "metadata": {},
   "outputs": [],
   "source": [
    "team1_group = bl.groupby('team1')\n",
    "team2_group = bl.groupby('team2')"
   ]
  },
  {
   "cell_type": "code",
   "execution_count": 32,
   "metadata": {},
   "outputs": [],
   "source": [
    "Means = (team1_group.mean() - team2_group.mean())/2"
   ]
  },
  {
   "cell_type": "code",
   "execution_count": 33,
   "metadata": {},
   "outputs": [
    {
     "data": {
      "text/plain": [
       "team1\n",
       "Bayern München          1.104348\n",
       "RB Leipzig              0.637255\n",
       "Meidericher SV          0.468085\n",
       "Borussia Dortmund       0.366213\n",
       "Bayer Leverkusen        0.339443\n",
       "Bor. Mönchengladbach    0.244534\n",
       "Werder Bremen           0.226688\n",
       "VfB Stuttgart           0.189655\n",
       "1. FC Köln              0.158720\n",
       "Hamburger SV            0.147374\n",
       "1899 Hoffenheim         0.077540\n",
       "Schalke 04              0.046821\n",
       "VfL Wolfsburg           0.034759\n",
       "Eintracht Frankfurt     0.015920\n",
       "1. FC Kaiserslautern    0.002681\n",
       "1860 München           -0.055060\n",
       "Hertha BSC             -0.108553\n",
       "Mainz 05               -0.144796\n",
       "Eintr. Braunschweig    -0.211048\n",
       "VfL Bochum             -0.245690\n",
       "FC Augsburg            -0.294118\n",
       "Fortuna Düsseldorf     -0.295122\n",
       "Hansa Rostock          -0.313107\n",
       "MSV Duisburg           -0.319672\n",
       "1. FC Nürnberg         -0.327370\n",
       "SV Waldhof Mannheim    -0.331933\n",
       "Hannover 96            -0.343504\n",
       "SC Freiburg            -0.369969\n",
       "SpVgg Unterhaching     -0.382353\n",
       "Karlsruher SC          -0.387931\n",
       "Bayer Uerdingen        -0.400452\n",
       "FC Ingolstadt 04       -0.441176\n",
       "SG Wattenscheid 09     -0.442857\n",
       "Arminia Bielefeld      -0.470588\n",
       "Kickers Offenbach      -0.495798\n",
       "Stuttgarter Kicker     -0.527778\n",
       "Dynamo Dresden         -0.564286\n",
       "Rot-Weiss Essen        -0.575630\n",
       "Preußen Münster        -0.600000\n",
       "Alemannia Aachen       -0.617647\n",
       "FC Energie Cottbus     -0.622549\n",
       "Wuppertaler SV         -0.627451\n",
       "KFC Uerdingen          -0.676471\n",
       "St. Pauli              -0.694853\n",
       "RW Oberhausen          -0.727941\n",
       "SSV Ulm 1846           -0.764706\n",
       "1. FC Saarbrücken      -0.807229\n",
       "Darmstadt 98           -0.889706\n",
       "FC Homburg             -0.950980\n",
       "Fortuna Köln           -0.970588\n",
       "SC Paderborn 07        -1.000000\n",
       "Greuther Fürth         -1.000000\n",
       "VfB Leipzig            -1.088235\n",
       "Bor. Neunkirchen       -1.163265\n",
       "BW 90 Berlin           -1.176471\n",
       "Tennis Borussia Be     -1.308824\n",
       "Tasmania Berlin        -2.735294\n",
       "Name: tor_diff, dtype: float64"
      ]
     },
     "execution_count": 33,
     "metadata": {},
     "output_type": "execute_result"
    }
   ],
   "source": [
    "Means.sort_values('tor_diff', ascending = False )['tor_diff']"
   ]
  },
  {
   "cell_type": "code",
   "execution_count": 34,
   "metadata": {},
   "outputs": [],
   "source": [
    "sums = team1_group.sum() - team2_group.sum()"
   ]
  },
  {
   "cell_type": "code",
   "execution_count": 37,
   "metadata": {},
   "outputs": [
    {
     "data": {
      "text/plain": [
       "team1\n",
       "1. FC Nürnberg          -366\n",
       "Hannover 96             -349\n",
       "Karlsruher SC           -315\n",
       "VfL Bochum              -285\n",
       "MSV Duisburg            -273\n",
       "Arminia Bielefeld       -272\n",
       "Fortuna Düsseldorf      -242\n",
       "SC Freiburg             -239\n",
       "St. Pauli               -189\n",
       "Bayer Uerdingen         -177\n",
       "Eintr. Braunschweig     -149\n",
       "Rot-Weiss Essen         -137\n",
       "1. FC Saarbrücken       -134\n",
       "Hertha BSC              -132\n",
       "Hansa Rostock           -129\n",
       "FC Energie Cottbus      -127\n",
       "Darmstadt 98            -121\n",
       "Kickers Offenbach       -118\n",
       "Bor. Neunkirchen        -114\n",
       "RW Oberhausen            -99\n",
       "FC Homburg               -97\n",
       "Tasmania Berlin          -93\n",
       "Tennis Borussia Be       -89\n",
       "Alemannia Aachen         -84\n",
       "FC Augsburg              -80\n",
       "Dynamo Dresden           -79\n",
       "SV Waldhof Mannheim      -79\n",
       "Mainz 05                 -64\n",
       "Wuppertaler SV           -64\n",
       "SG Wattenscheid 09       -62\n",
       "BW 90 Berlin             -40\n",
       "Stuttgarter Kicker       -38\n",
       "VfB Leipzig              -37\n",
       "1860 München             -37\n",
       "Greuther Fürth           -34\n",
       "SC Paderborn 07          -34\n",
       "Fortuna Köln             -33\n",
       "FC Ingolstadt 04         -30\n",
       "SpVgg Unterhaching       -26\n",
       "SSV Ulm 1846             -26\n",
       "KFC Uerdingen            -23\n",
       "Preußen Münster          -18\n",
       "1. FC Kaiserslautern       4\n",
       "VfL Wolfsburg             26\n",
       "Eintracht Frankfurt       27\n",
       "1899 Hoffenheim           29\n",
       "Meidericher SV            44\n",
       "RB Leipzig                65\n",
       "Schalke 04                81\n",
       "1. FC Köln               253\n",
       "Hamburger SV             275\n",
       "VfB Stuttgart            341\n",
       "Werder Bremen            423\n",
       "Bor. Mönchengladbach     425\n",
       "Bayer Leverkusen         463\n",
       "Borussia Dortmund        646\n",
       "Bayern München          2032\n",
       "Name: tor_diff, dtype: int64"
      ]
     },
     "execution_count": 37,
     "metadata": {},
     "output_type": "execute_result"
    }
   ],
   "source": [
    "sums.sort_values('tor_diff')['tor_diff']"
   ]
  },
  {
   "cell_type": "code",
   "execution_count": 40,
   "metadata": {},
   "outputs": [],
   "source": [
    "# KFC Uerdingen --> Bayern Uerdingen  ,  Meidericher SV --> MSV Duisburg , Vfb Leipzig == Lok Leipzig"
   ]
  },
  {
   "cell_type": "code",
   "execution_count": null,
   "metadata": {},
   "outputs": [],
   "source": []
  }
 ],
 "metadata": {
  "kernelspec": {
   "display_name": "Python 3",
   "language": "python",
   "name": "python3"
  },
  "language_info": {
   "codemirror_mode": {
    "name": "ipython",
    "version": 3
   },
   "file_extension": ".py",
   "mimetype": "text/x-python",
   "name": "python",
   "nbconvert_exporter": "python",
   "pygments_lexer": "ipython3",
   "version": "3.6.8"
  }
 },
 "nbformat": 4,
 "nbformat_minor": 2
}
